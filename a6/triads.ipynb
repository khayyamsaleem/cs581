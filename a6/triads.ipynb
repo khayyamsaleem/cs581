{
 "cells": [
  {
   "cell_type": "code",
   "execution_count": 77,
   "metadata": {},
   "outputs": [],
   "source": [
    "import networkx as nx\n",
    "import matplotlib.pyplot as plt\n",
    "from itertools import combinations as comb\n",
    "from pprint import pprint\n",
    "import pandas as pd\n",
    "\n",
    "\n",
    "def graph_and_stats(fname):\n",
    "    G = nx.Graph()\n",
    "    self_loop_count = 0\n",
    "    pos_count = 0\n",
    "    neg_count = 0\n",
    "    with open(fname, \"r\") as f:\n",
    "        for line in f:\n",
    "            reviewer, reviewee, weight = tuple(map(int, line.split(\",\")))\n",
    "            self_loop_count += 1 if reviewer == reviewee else 0\n",
    "            pos_count += 1 if weight == 1 else 0\n",
    "            neg_count += 1 if weight == -1 else 0\n",
    "            G.add_edge(reviewer, reviewee, weight=weight)\n",
    "    return self_loop_count, pos_count, neg_count, G\n",
    "\n",
    "self_loop_count, pos_count, neg_count, G = graph_and_stats(\"epinions.csv\")"
   ]
  },
  {
   "cell_type": "code",
   "execution_count": null,
   "metadata": {},
   "outputs": [],
   "source": [
    "weights = nx.get_edge_attributes(G, 'weight')"
   ]
  },
  {
   "cell_type": "code",
   "execution_count": null,
   "metadata": {},
   "outputs": [],
   "source": [
    "triads = [x for x in nx.enumerate_all_cliques(G) if len(x) == 3]"
   ]
  },
  {
   "cell_type": "code",
   "execution_count": null,
   "metadata": {},
   "outputs": [],
   "source": [
    "triads_and_weights = list(map(lambda x: list(map(lambda x: (x, weights[x]), comb(x, 2))), triads))"
   ]
  },
  {
   "cell_type": "code",
   "execution_count": null,
   "metadata": {},
   "outputs": [],
   "source": [
    "from pprint import pprint\n",
    "pprint(triads_and_weights[:20]) #ABBREVIATED"
   ]
  },
  {
   "cell_type": "code",
   "execution_count": null,
   "metadata": {},
   "outputs": [],
   "source": [
    "print(\"NUMBER OF SELF LOOPS:\", self_loop_count)"
   ]
  },
  {
   "cell_type": "code",
   "execution_count": null,
   "metadata": {},
   "outputs": [],
   "source": [
    "print(\"NUMBER OF TRUST EDGES:\", pos_count)"
   ]
  },
  {
   "cell_type": "code",
   "execution_count": null,
   "metadata": {},
   "outputs": [],
   "source": [
    "print(\"NUMBER OF DISTRUST EDGES:\", neg_count)"
   ]
  },
  {
   "cell_type": "code",
   "execution_count": null,
   "metadata": {},
   "outputs": [],
   "source": [
    "print(\"NUMBER OF NODES IN TRIADS:\",len(set([val for sublist in triads for val in sublist])))"
   ]
  },
  {
   "cell_type": "code",
   "execution_count": null,
   "metadata": {},
   "outputs": [],
   "source": [
    "print(\"NUMBER OF NODES TOTAL:\",len(G.nodes()))"
   ]
  },
  {
   "cell_type": "code",
   "execution_count": null,
   "metadata": {},
   "outputs": [],
   "source": [
    "def get_trust_category(entry):\n",
    "    categories = {\n",
    "        (1,1,1) : \"TTT\",\n",
    "        (-1,1,1) : \"TTD\",\n",
    "        (-1,-1,1) : \"TDD\",\n",
    "        (-1,-1,-1) : \"DDD\"\n",
    "    }\n",
    "    return categories[tuple(sorted([x[1] for x in entry]))]\n",
    "\n",
    "for i in range(len(triads_and_weights)):\n",
    "    triads_and_weights[i].append(get_trust_category(triads_and_weights[i]))"
   ]
  },
  {
   "cell_type": "code",
   "execution_count": null,
   "metadata": {},
   "outputs": [],
   "source": [
    "col_format = tuple(zip(*triads_and_weights))\n",
    "table = pd.DataFrame({\n",
    "    \"trust_category\": col_format[3],\n",
    "    \"edge_1\": tuple(zip(*col_format[0]))[0],\n",
    "    \"trust_1\": tuple(zip(*col_format[0]))[1],\n",
    "    \"edge_2\": tuple(zip(*col_format[1]))[0],\n",
    "    \"trust_2\": tuple(zip(*col_format[1]))[1],\n",
    "    \"edge_3\": tuple(zip(*col_format[2]))[0],\n",
    "    \"trust_3\": tuple(zip(*col_format[2]))[1]\n",
    "})"
   ]
  },
  {
   "cell_type": "code",
   "execution_count": null,
   "metadata": {},
   "outputs": [],
   "source": [
    "table.sort_values(['trust_category'],ascending=False).reset_index(drop=True)"
   ]
  },
  {
   "cell_type": "code",
   "execution_count": null,
   "metadata": {},
   "outputs": [],
   "source": []
  },
  {
   "cell_type": "code",
   "execution_count": null,
   "metadata": {},
   "outputs": [],
   "source": []
  }
 ],
 "metadata": {
  "kernelspec": {
   "display_name": "Python 3",
   "language": "python",
   "name": "python3"
  },
  "language_info": {
   "codemirror_mode": {
    "name": "ipython",
    "version": 3
   },
   "file_extension": ".py",
   "mimetype": "text/x-python",
   "name": "python",
   "nbconvert_exporter": "python",
   "pygments_lexer": "ipython3",
   "version": "3.6.6"
  }
 },
 "nbformat": 4,
 "nbformat_minor": 2
}
