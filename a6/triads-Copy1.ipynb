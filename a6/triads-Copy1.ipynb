{
 "cells": [
  {
   "cell_type": "code",
   "execution_count": 17,
   "metadata": {},
   "outputs": [],
   "source": [
    "import networkx as nx\n",
    "import matplotlib.pyplot as plt\n",
    "from itertools import combinations as comb\n",
    "from pprint import pprint\n",
    "import pandas as pd\n",
    "\n",
    "\n",
    "def graph_and_stats(fname):\n",
    "    G = nx.Graph()\n",
    "    self_loop_count = 0\n",
    "    pos_count = 0\n",
    "    neg_count = 0\n",
    "    with open(fname, \"r\") as f:\n",
    "        for line in f:\n",
    "            reviewer, reviewee, weight = tuple(map(int, line.split(\",\")))\n",
    "            self_loop_count += 1 if reviewer == reviewee else 0\n",
    "            pos_count += 1 if weight == 1 and reviewer != reviewee else 0\n",
    "            neg_count += 1 if weight == -1 and reviewer != reviewee else 0\n",
    "            G.add_edge(reviewer, reviewee, weight=weight)\n",
    "    return self_loop_count, pos_count, neg_count, G\n",
    "\n",
    "self_loop_count, pos_count, neg_count, G = graph_and_stats(\"epinions_small.csv\")"
   ]
  },
  {
   "cell_type": "code",
   "execution_count": 18,
   "metadata": {},
   "outputs": [],
   "source": [
    "weights = nx.get_edge_attributes(G, 'weight')"
   ]
  },
  {
   "cell_type": "code",
   "execution_count": 19,
   "metadata": {},
   "outputs": [],
   "source": [
    "triads = [x for x in nx.enumerate_all_cliques(G) if len(x) == 3]"
   ]
  },
  {
   "cell_type": "code",
   "execution_count": 20,
   "metadata": {},
   "outputs": [],
   "source": [
    "triads_and_weights = list(map(lambda x: list(map(lambda x: (x, weights[x]), comb(x, 2))), triads))"
   ]
  },
  {
   "cell_type": "code",
   "execution_count": 21,
   "metadata": {},
   "outputs": [
    {
     "name": "stdout",
     "output_type": "stream",
     "text": [
      "[[((264472, 291725), 1), ((264472, 205645), 1), ((291725, 205645), 1)],\n",
      " [((264472, 291725), 1), ((264472, 282870), 1), ((291725, 282870), 1)],\n",
      " [((264472, 291725), 1), ((264472, 205068), 1), ((291725, 205068), 1)],\n",
      " [((264472, 291725), 1), ((264472, 244660), 1), ((291725, 244660), 1)],\n",
      " [((264472, 233969), 1), ((264472, 212893), 1), ((233969, 212893), -1)],\n",
      " [((264472, 233969), 1), ((264472, 277629), 1), ((233969, 277629), -1)],\n",
      " [((264472, 233969), 1), ((264472, 204622), 1), ((233969, 204622), 1)],\n",
      " [((264472, 233969), 1), ((264472, 212234), 1), ((233969, 212234), 1)],\n",
      " [((264472, 233969), 1), ((264472, 213839), 1), ((233969, 213839), -1)],\n",
      " [((264472, 233969), 1), ((264472, 261565), 1), ((233969, 261565), 1)],\n",
      " [((264472, 233969), 1), ((264472, 210929), 1), ((233969, 210929), 1)],\n",
      " [((264472, 233969), 1), ((264472, 203599), 1), ((233969, 203599), 1)],\n",
      " [((264472, 233969), 1), ((264472, 282870), 1), ((233969, 282870), 1)],\n",
      " [((264472, 233969), 1), ((264472, 224409), 1), ((233969, 224409), 1)],\n",
      " [((264472, 233969), 1), ((264472, 205068), 1), ((233969, 205068), 1)],\n",
      " [((264472, 233969), 1), ((264472, 253067), 1), ((233969, 253067), 1)],\n",
      " [((264472, 233969), 1), ((264472, 205076), 1), ((233969, 205076), 1)],\n",
      " [((264472, 233969), 1), ((264472, 223418), 1), ((233969, 223418), 1)],\n",
      " [((264472, 233969), 1), ((264472, 206045), 1), ((233969, 206045), 1)],\n",
      " [((264472, 233969), 1), ((264472, 295491), 1), ((233969, 295491), 1)]]\n"
     ]
    }
   ],
   "source": [
    "from pprint import pprint\n",
    "pprint(triads_and_weights[:20]) #ABBREVIATED"
   ]
  },
  {
   "cell_type": "code",
   "execution_count": 22,
   "metadata": {},
   "outputs": [
    {
     "name": "stdout",
     "output_type": "stream",
     "text": [
      "NUMBER OF SELF LOOPS: 73\n"
     ]
    }
   ],
   "source": [
    "print(\"NUMBER OF SELF LOOPS:\", self_loop_count)"
   ]
  },
  {
   "cell_type": "code",
   "execution_count": 59,
   "metadata": {},
   "outputs": [
    {
     "name": "stdout",
     "output_type": "stream",
     "text": [
      "NUMBER OF TOTNODES: 65916\n"
     ]
    }
   ],
   "source": [
    "print(\"NUMBER OF TOTNODES:\", pos_count+neg_count-self_loop_count)"
   ]
  },
  {
   "cell_type": "code",
   "execution_count": 23,
   "metadata": {},
   "outputs": [
    {
     "name": "stdout",
     "output_type": "stream",
     "text": [
      "NUMBER OF TRUST EDGES: 57010\n"
     ]
    }
   ],
   "source": [
    "print(\"NUMBER OF TRUST EDGES:\", pos_count)"
   ]
  },
  {
   "cell_type": "code",
   "execution_count": 24,
   "metadata": {},
   "outputs": [
    {
     "name": "stdout",
     "output_type": "stream",
     "text": [
      "NUMBER OF DISTRUST EDGES: 8979\n"
     ]
    }
   ],
   "source": [
    "print(\"NUMBER OF DISTRUST EDGES:\", neg_count)"
   ]
  },
  {
   "cell_type": "code",
   "execution_count": 25,
   "metadata": {},
   "outputs": [
    {
     "name": "stdout",
     "output_type": "stream",
     "text": [
      "NUMBER OF NODES IN TRIADS: 3587\n"
     ]
    }
   ],
   "source": [
    "print(\"NUMBER OF NODES IN TRIADS:\",len(set([val for sublist in triads for val in sublist])))"
   ]
  },
  {
   "cell_type": "code",
   "execution_count": 26,
   "metadata": {},
   "outputs": [
    {
     "name": "stdout",
     "output_type": "stream",
     "text": [
      "NUMBER OF NODES TOTAL: 10386\n"
     ]
    }
   ],
   "source": [
    "print(\"NUMBER OF NODES TOTAL:\",len(G.nodes()))"
   ]
  },
  {
   "cell_type": "code",
   "execution_count": 27,
   "metadata": {},
   "outputs": [],
   "source": [
    "def get_trust_category(entry):\n",
    "    categories = {\n",
    "        (1,1,1) : \"TTT\",\n",
    "        (-1,1,1) : \"TTD\",\n",
    "        (-1,-1,1) : \"TDD\",\n",
    "        (-1,-1,-1) : \"DDD\"\n",
    "    }\n",
    "    return categories[tuple(sorted([x[1] for x in entry]))]\n",
    "\n",
    "for i in range(len(triads_and_weights)):\n",
    "    triads_and_weights[i].append(get_trust_category(triads_and_weights[i]))"
   ]
  },
  {
   "cell_type": "code",
   "execution_count": 28,
   "metadata": {},
   "outputs": [],
   "source": [
    "col_format = tuple(zip(*triads_and_weights))\n",
    "table = pd.DataFrame({\n",
    "    \"trust_category\": col_format[3],\n",
    "    \"edge_1\": tuple(zip(*col_format[0]))[0],\n",
    "    \"trust_1\": tuple(zip(*col_format[0]))[1],\n",
    "    \"edge_2\": tuple(zip(*col_format[1]))[0],\n",
    "    \"trust_2\": tuple(zip(*col_format[1]))[1],\n",
    "    \"edge_3\": tuple(zip(*col_format[2]))[0],\n",
    "    \"trust_3\": tuple(zip(*col_format[2]))[1]\n",
    "})"
   ]
  },
  {
   "cell_type": "code",
   "execution_count": 44,
   "metadata": {},
   "outputs": [],
   "source": [
    "triad_table = table.sort_values(['trust_category'],ascending=False).reset_index(drop=True)"
   ]
  },
  {
   "cell_type": "code",
   "execution_count": 50,
   "metadata": {},
   "outputs": [
    {
     "data": {
      "text/plain": [
       "array(['TTT', 'TTD', 'TDD', 'DDD'], dtype=object)"
      ]
     },
     "execution_count": 50,
     "metadata": {},
     "output_type": "execute_result"
    }
   ],
   "source": [
    "triad_table.trust_category.unique()"
   ]
  },
  {
   "cell_type": "code",
   "execution_count": 31,
   "metadata": {},
   "outputs": [],
   "source": [
    "num_edges = pos_count + neg_count\n",
    "p_pos = pos_count / num_edges\n",
    "p_neg = 1 - p_pos\n",
    "p_type_1 = p_pos * p_pos * p_pos\n",
    "p_type_2 = 3 * (p_pos * p_pos * p_neg)\n",
    "p_type_3 = 3 * (p_pos * p_neg * p_neg)\n",
    "p_type_4 = p_neg * p_neg * p_neg"
   ]
  },
  {
   "cell_type": "code",
   "execution_count": 60,
   "metadata": {},
   "outputs": [
    {
     "name": "stdout",
     "output_type": "stream",
     "text": [
      "PROBABILITY THAT AN EDGE WILL BE POSITIVE: 0.8639318674324509\n",
      "PROBABILITY THAT AN EDGE WILL BE NEGATIVE: 0.13606813256754913\n"
     ]
    }
   ],
   "source": [
    "print(\"PROBABILITY THAT AN EDGE WILL BE POSITIVE:\", p_pos)\n",
    "print(\"PROBABILITY THAT AN EDGE WILL BE NEGATIVE:\", p_neg)"
   ]
  },
  {
   "cell_type": "code",
   "execution_count": 57,
   "metadata": {},
   "outputs": [
    {
     "name": "stdout",
     "output_type": "stream",
     "text": [
      "Expected distribution of TTT, TTD, TDD, and DDD triads are respectively (0.6448199739644335, 0.3046748928026652, 0.04798589479872181, 0.0025192384341795188)\n"
     ]
    }
   ],
   "source": [
    "print(\"Expected distribution of TTT, TTD, TDD, and DDD triads are respectively {}\".format((p_type_1,p_type_2,p_type_3,p_type_4)))"
   ]
  },
  {
   "cell_type": "code",
   "execution_count": 33,
   "metadata": {},
   "outputs": [],
   "source": [
    "n_triads = len(triad_table)\n",
    "type_1 = len(triad_table[triad_table['trust_category'] == 'TTT'])\n",
    "type_2 = len(triad_table[triad_table['trust_category'] == 'TTD'])\n",
    "type_3 = len(triad_table[triad_table['trust_category'] == 'TDD'])\n",
    "type_4 = len(triad_table[triad_table['trust_category'] == 'DDD'])"
   ]
  },
  {
   "cell_type": "code",
   "execution_count": 58,
   "metadata": {},
   "outputs": [
    {
     "name": "stdout",
     "output_type": "stream",
     "text": [
      "Actual distribution of TTT, TTD, TDD, and DDD triads are respectively (0.7333896034789629, 0.15341107176278465, 0.09767151690856712, 0.015527807849685315)\n"
     ]
    }
   ],
   "source": [
    "print(\"Actual distribution of TTT, TTD, TDD, and DDD triads are respectively {}\".format((type_1 / n_triads, type_2 / n_triads, type_3 / n_triads, type_4 / n_triads)))"
   ]
  }
 ],
 "metadata": {
  "kernelspec": {
   "display_name": "Python 3",
   "language": "python",
   "name": "python3"
  },
  "language_info": {
   "codemirror_mode": {
    "name": "ipython",
    "version": 3
   },
   "file_extension": ".py",
   "mimetype": "text/x-python",
   "name": "python",
   "nbconvert_exporter": "python",
   "pygments_lexer": "ipython3",
   "version": "3.7.0"
  }
 },
 "nbformat": 4,
 "nbformat_minor": 2
}
